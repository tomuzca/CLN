{
 "cells": [
  {
   "cell_type": "code",
   "execution_count": 1,
   "metadata": {},
   "outputs": [],
   "source": [
    "import pandas as pd\n",
    "import matplotlib.pyplot as plt"
   ]
  },
  {
   "cell_type": "code",
   "execution_count": 2,
   "metadata": {},
   "outputs": [
    {
     "name": "stdout",
     "output_type": "stream",
     "text": [
      "<class 'pandas.core.frame.DataFrame'>\n",
      "RangeIndex: 32833 entries, 0 to 32832\n",
      "Data columns (total 23 columns):\n",
      " #   Column                    Non-Null Count  Dtype  \n",
      "---  ------                    --------------  -----  \n",
      " 0   track_id                  32833 non-null  object \n",
      " 1   track_name                32828 non-null  object \n",
      " 2   track_artist              32828 non-null  object \n",
      " 3   track_popularity          32833 non-null  int64  \n",
      " 4   track_album_id            32833 non-null  object \n",
      " 5   track_album_name          32828 non-null  object \n",
      " 6   track_album_release_date  32833 non-null  object \n",
      " 7   playlist_name             32833 non-null  object \n",
      " 8   playlist_id               32833 non-null  object \n",
      " 9   playlist_genre            32833 non-null  object \n",
      " 10  playlist_subgenre         32833 non-null  object \n",
      " 11  danceability              32833 non-null  float64\n",
      " 12  energy                    32833 non-null  float64\n",
      " 13  key                       32833 non-null  int64  \n",
      " 14  loudness                  32833 non-null  float64\n",
      " 15  mode                      32833 non-null  int64  \n",
      " 16  speechiness               32833 non-null  float64\n",
      " 17  acousticness              32833 non-null  float64\n",
      " 18  instrumentalness          32833 non-null  float64\n",
      " 19  liveness                  32833 non-null  float64\n",
      " 20  valence                   32833 non-null  float64\n",
      " 21  tempo                     32833 non-null  float64\n",
      " 22  duration_ms               32833 non-null  int64  \n",
      "dtypes: float64(9), int64(4), object(10)\n",
      "memory usage: 5.8+ MB\n"
     ]
    }
   ],
   "source": [
    "archivo_csv = \"../CLN/spotify_songs.csv\"\n",
    "df = pd.read_csv(archivo_csv)\n",
    "df.info()"
   ]
  },
  {
   "cell_type": "code",
   "execution_count": 3,
   "metadata": {},
   "outputs": [
    {
     "data": {
      "text/plain": [
       "Index(['track_id', 'track_name', 'track_artist', 'track_popularity',\n",
       "       'track_album_id', 'track_album_name', 'track_album_release_date',\n",
       "       'playlist_name', 'playlist_id', 'playlist_genre', 'playlist_subgenre',\n",
       "       'danceability', 'energy', 'key', 'loudness', 'mode', 'speechiness',\n",
       "       'acousticness', 'instrumentalness', 'liveness', 'valence', 'tempo',\n",
       "       'duration_ms'],\n",
       "      dtype='object')"
      ]
     },
     "execution_count": 3,
     "metadata": {},
     "output_type": "execute_result"
    }
   ],
   "source": [
    "df.columns"
   ]
  },
  {
   "cell_type": "code",
   "execution_count": 4,
   "metadata": {},
   "outputs": [
    {
     "data": {
      "text/html": [
       "<div>\n",
       "<style scoped>\n",
       "    .dataframe tbody tr th:only-of-type {\n",
       "        vertical-align: middle;\n",
       "    }\n",
       "\n",
       "    .dataframe tbody tr th {\n",
       "        vertical-align: top;\n",
       "    }\n",
       "\n",
       "    .dataframe thead th {\n",
       "        text-align: right;\n",
       "    }\n",
       "</style>\n",
       "<table border=\"1\" class=\"dataframe\">\n",
       "  <thead>\n",
       "    <tr style=\"text-align: right;\">\n",
       "      <th></th>\n",
       "      <th>track_id</th>\n",
       "      <th>track_name</th>\n",
       "      <th>track_artist</th>\n",
       "      <th>track_popularity</th>\n",
       "      <th>track_album_id</th>\n",
       "      <th>track_album_name</th>\n",
       "      <th>track_album_release_date</th>\n",
       "      <th>playlist_name</th>\n",
       "      <th>playlist_id</th>\n",
       "      <th>playlist_genre</th>\n",
       "      <th>...</th>\n",
       "      <th>key</th>\n",
       "      <th>loudness</th>\n",
       "      <th>mode</th>\n",
       "      <th>speechiness</th>\n",
       "      <th>acousticness</th>\n",
       "      <th>instrumentalness</th>\n",
       "      <th>liveness</th>\n",
       "      <th>valence</th>\n",
       "      <th>tempo</th>\n",
       "      <th>duration_ms</th>\n",
       "    </tr>\n",
       "  </thead>\n",
       "  <tbody>\n",
       "    <tr>\n",
       "      <th>0</th>\n",
       "      <td>6f807x0ima9a1j3VPbc7VN</td>\n",
       "      <td>I Don't Care (with Justin Bieber) - Loud Luxur...</td>\n",
       "      <td>Ed Sheeran</td>\n",
       "      <td>66</td>\n",
       "      <td>2oCs0DGTsRO98Gh5ZSl2Cx</td>\n",
       "      <td>I Don't Care (with Justin Bieber) [Loud Luxury...</td>\n",
       "      <td>2019-06-14</td>\n",
       "      <td>Pop Remix</td>\n",
       "      <td>37i9dQZF1DXcZDD7cfEKhW</td>\n",
       "      <td>pop</td>\n",
       "      <td>...</td>\n",
       "      <td>6</td>\n",
       "      <td>-2.634</td>\n",
       "      <td>1</td>\n",
       "      <td>0.0583</td>\n",
       "      <td>0.1020</td>\n",
       "      <td>0.000000</td>\n",
       "      <td>0.0653</td>\n",
       "      <td>0.518</td>\n",
       "      <td>122.036</td>\n",
       "      <td>194754</td>\n",
       "    </tr>\n",
       "    <tr>\n",
       "      <th>1</th>\n",
       "      <td>0r7CVbZTWZgbTCYdfa2P31</td>\n",
       "      <td>Memories - Dillon Francis Remix</td>\n",
       "      <td>Maroon 5</td>\n",
       "      <td>67</td>\n",
       "      <td>63rPSO264uRjW1X5E6cWv6</td>\n",
       "      <td>Memories (Dillon Francis Remix)</td>\n",
       "      <td>2019-12-13</td>\n",
       "      <td>Pop Remix</td>\n",
       "      <td>37i9dQZF1DXcZDD7cfEKhW</td>\n",
       "      <td>pop</td>\n",
       "      <td>...</td>\n",
       "      <td>11</td>\n",
       "      <td>-4.969</td>\n",
       "      <td>1</td>\n",
       "      <td>0.0373</td>\n",
       "      <td>0.0724</td>\n",
       "      <td>0.004210</td>\n",
       "      <td>0.3570</td>\n",
       "      <td>0.693</td>\n",
       "      <td>99.972</td>\n",
       "      <td>162600</td>\n",
       "    </tr>\n",
       "    <tr>\n",
       "      <th>2</th>\n",
       "      <td>1z1Hg7Vb0AhHDiEmnDE79l</td>\n",
       "      <td>All the Time - Don Diablo Remix</td>\n",
       "      <td>Zara Larsson</td>\n",
       "      <td>70</td>\n",
       "      <td>1HoSmj2eLcsrR0vE9gThr4</td>\n",
       "      <td>All the Time (Don Diablo Remix)</td>\n",
       "      <td>2019-07-05</td>\n",
       "      <td>Pop Remix</td>\n",
       "      <td>37i9dQZF1DXcZDD7cfEKhW</td>\n",
       "      <td>pop</td>\n",
       "      <td>...</td>\n",
       "      <td>1</td>\n",
       "      <td>-3.432</td>\n",
       "      <td>0</td>\n",
       "      <td>0.0742</td>\n",
       "      <td>0.0794</td>\n",
       "      <td>0.000023</td>\n",
       "      <td>0.1100</td>\n",
       "      <td>0.613</td>\n",
       "      <td>124.008</td>\n",
       "      <td>176616</td>\n",
       "    </tr>\n",
       "  </tbody>\n",
       "</table>\n",
       "<p>3 rows × 23 columns</p>\n",
       "</div>"
      ],
      "text/plain": [
       "                 track_id                                         track_name  \\\n",
       "0  6f807x0ima9a1j3VPbc7VN  I Don't Care (with Justin Bieber) - Loud Luxur...   \n",
       "1  0r7CVbZTWZgbTCYdfa2P31                    Memories - Dillon Francis Remix   \n",
       "2  1z1Hg7Vb0AhHDiEmnDE79l                    All the Time - Don Diablo Remix   \n",
       "\n",
       "   track_artist  track_popularity          track_album_id  \\\n",
       "0    Ed Sheeran                66  2oCs0DGTsRO98Gh5ZSl2Cx   \n",
       "1      Maroon 5                67  63rPSO264uRjW1X5E6cWv6   \n",
       "2  Zara Larsson                70  1HoSmj2eLcsrR0vE9gThr4   \n",
       "\n",
       "                                    track_album_name track_album_release_date  \\\n",
       "0  I Don't Care (with Justin Bieber) [Loud Luxury...               2019-06-14   \n",
       "1                    Memories (Dillon Francis Remix)               2019-12-13   \n",
       "2                    All the Time (Don Diablo Remix)               2019-07-05   \n",
       "\n",
       "  playlist_name             playlist_id playlist_genre  ... key  loudness  \\\n",
       "0     Pop Remix  37i9dQZF1DXcZDD7cfEKhW            pop  ...   6    -2.634   \n",
       "1     Pop Remix  37i9dQZF1DXcZDD7cfEKhW            pop  ...  11    -4.969   \n",
       "2     Pop Remix  37i9dQZF1DXcZDD7cfEKhW            pop  ...   1    -3.432   \n",
       "\n",
       "   mode  speechiness  acousticness  instrumentalness  liveness  valence  \\\n",
       "0     1       0.0583        0.1020          0.000000    0.0653    0.518   \n",
       "1     1       0.0373        0.0724          0.004210    0.3570    0.693   \n",
       "2     0       0.0742        0.0794          0.000023    0.1100    0.613   \n",
       "\n",
       "     tempo  duration_ms  \n",
       "0  122.036       194754  \n",
       "1   99.972       162600  \n",
       "2  124.008       176616  \n",
       "\n",
       "[3 rows x 23 columns]"
      ]
     },
     "execution_count": 4,
     "metadata": {},
     "output_type": "execute_result"
    }
   ],
   "source": [
    "df.head(3)"
   ]
  },
  {
   "cell_type": "code",
   "execution_count": 5,
   "metadata": {},
   "outputs": [],
   "source": [
    "df = df.drop_duplicates(subset=['track_id'])"
   ]
  },
  {
   "cell_type": "code",
   "execution_count": 6,
   "metadata": {},
   "outputs": [
    {
     "data": {
      "image/png": "[encoded data removed]",
      "text/plain": [
       "<Figure size 1000x600 with 1 Axes>"
      ]
     },
     "metadata": {},
     "output_type": "display_data"
    }
   ],
   "source": [
    "# Ordena el DataFrame por la columna 'popularity' de manera descendente\n",
    "df_ordenado = df.sort_values(by='track_popularity', ascending=False)\n",
    "\n",
    "# Selecciona los primeros 10 registros para la visualización\n",
    "df_top_10_popularity = df_ordenado.head(10)\n",
    "\n",
    "# Gráfico de barras\n",
    "plt.figure(figsize=(10, 6))\n",
    "plt.bar(df_top_10_popularity['track_artist'], df_top_10_popularity['track_popularity'], color='skyblue')\n",
    "plt.xlabel('Artist')\n",
    "plt.ylabel('Popularity')\n",
    "plt.title('Top 10 Principal Artists by Popularity')\n",
    "plt.xticks(rotation=45, ha='right')  # Rotar etiquetas en el eje x para mejor legibilidad\n",
    "plt.tight_layout()  # Ajustar el diseño para evitar cortar las etiquetas\n",
    "plt.show()"
   ]
  },
  {
   "cell_type": "code",
   "execution_count": 13,
   "metadata": {},
   "outputs": [
    {
     "name": "stdout",
     "output_type": "stream",
     "text": [
      "<class 'pandas.core.frame.DataFrame'>\n",
      "Index: 10 entries, 20091 to 20252\n",
      "Data columns (total 23 columns):\n",
      " #   Column                    Non-Null Count  Dtype  \n",
      "---  ------                    --------------  -----  \n",
      " 0   track_id                  10 non-null     object \n",
      " 1   track_name                10 non-null     object \n",
      " 2   track_artist              10 non-null     object \n",
      " 3   track_popularity          10 non-null     int64  \n",
      " 4   track_album_id            10 non-null     object \n",
      " 5   track_album_name          10 non-null     object \n",
      " 6   track_album_release_date  10 non-null     object \n",
      " 7   playlist_name             10 non-null     object \n",
      " 8   playlist_id               10 non-null     object \n",
      " 9   playlist_genre            10 non-null     object \n",
      " 10  playlist_subgenre         10 non-null     object \n",
      " 11  danceability              10 non-null     float64\n",
      " 12  energy                    10 non-null     float64\n",
      " 13  key                       10 non-null     int64  \n",
      " 14  loudness                  10 non-null     float64\n",
      " 15  mode                      10 non-null     int64  \n",
      " 16  speechiness               10 non-null     float64\n",
      " 17  acousticness              10 non-null     float64\n",
      " 18  instrumentalness          10 non-null     float64\n",
      " 19  liveness                  10 non-null     float64\n",
      " 20  valence                   10 non-null     float64\n",
      " 21  tempo                     10 non-null     float64\n",
      " 22  duration_ms               10 non-null     int64  \n",
      "dtypes: float64(9), int64(4), object(10)\n",
      "memory usage: 1.9+ KB\n"
     ]
    }
   ],
   "source": [
    "df_top_10_popularity.info()"
   ]
  },
  {
   "cell_type": "code",
   "execution_count": 8,
   "metadata": {},
   "outputs": [
    {
     "name": "stdout",
     "output_type": "stream",
     "text": [
      "track_id                    28356\n",
      "track_name                  23449\n",
      "track_artist                10692\n",
      "track_popularity              101\n",
      "track_album_id              22545\n",
      "track_album_name            19743\n",
      "track_album_release_date     4530\n",
      "playlist_name                 448\n",
      "playlist_id                   470\n",
      "playlist_genre                  6\n",
      "playlist_subgenre              24\n",
      "danceability                  822\n",
      "energy                        952\n",
      "key                            12\n",
      "loudness                    10222\n",
      "mode                            2\n",
      "speechiness                  1270\n",
      "acousticness                 3731\n",
      "instrumentalness             4729\n",
      "liveness                     1624\n",
      "valence                      1362\n",
      "tempo                       17684\n",
      "duration_ms                 19785\n",
      "dtype: int64\n"
     ]
    }
   ],
   "source": [
    "unique_counts = df.nunique()\n",
    "print(unique_counts)"
   ]
  },
  {
   "cell_type": "code",
   "execution_count": 9,
   "metadata": {},
   "outputs": [],
   "source": [
    "deletecol = [\"track_id\", \"track_album_id\", ]\n",
    "df = df.drop(columns=deletecol, errors='ignore')"
   ]
  },
  {
   "cell_type": "code",
   "execution_count": 10,
   "metadata": {},
   "outputs": [
    {
     "name": "stdout",
     "output_type": "stream",
     "text": [
      "<class 'pandas.core.frame.DataFrame'>\n",
      "Index: 28356 entries, 0 to 32832\n",
      "Data columns (total 21 columns):\n",
      " #   Column                    Non-Null Count  Dtype  \n",
      "---  ------                    --------------  -----  \n",
      " 0   track_name                28352 non-null  object \n",
      " 1   track_artist              28352 non-null  object \n",
      " 2   track_popularity          28356 non-null  int64  \n",
      " 3   track_album_name          28352 non-null  object \n",
      " 4   track_album_release_date  28356 non-null  object \n",
      " 5   playlist_name             28356 non-null  object \n",
      " 6   playlist_id               28356 non-null  object \n",
      " 7   playlist_genre            28356 non-null  object \n",
      " 8   playlist_subgenre         28356 non-null  object \n",
      " 9   danceability              28356 non-null  float64\n",
      " 10  energy                    28356 non-null  float64\n",
      " 11  key                       28356 non-null  int64  \n",
      " 12  loudness                  28356 non-null  float64\n",
      " 13  mode                      28356 non-null  int64  \n",
      " 14  speechiness               28356 non-null  float64\n",
      " 15  acousticness              28356 non-null  float64\n",
      " 16  instrumentalness          28356 non-null  float64\n",
      " 17  liveness                  28356 non-null  float64\n",
      " 18  valence                   28356 non-null  float64\n",
      " 19  tempo                     28356 non-null  float64\n",
      " 20  duration_ms               28356 non-null  int64  \n",
      "dtypes: float64(9), int64(4), object(8)\n",
      "memory usage: 4.8+ MB\n"
     ]
    }
   ],
   "source": [
    "df.info()"
   ]
  },
  {
   "cell_type": "code",
   "execution_count": null,
   "metadata": {},
   "outputs": [],
   "source": [
    "# Interfaz de usuario con Streamlit\n",
    "st.title('Ingreso de Datos Musicales')\n",
    "\n",
    "# Entrada de usuario para el nombre de la canción\n",
    "nombre_cancion = st.text_input('Nombre de la canción:', '')\n",
    "\n",
    "# Botón para buscar y mostrar la información de la canción en el DataFrame\n",
    "if st.button('Buscar Información de la Canción'):\n",
    "    # Verificar si el usuario ingresó un nombre de canción\n",
    "    if nombre_cancion:\n",
    "        # Buscar la información correspondiente a la canción en el DataFrame\n",
    "        cancion_info = df[df['Canción'] == nombre_cancion]\n",
    "\n",
    "        if not cancion_info.empty:\n",
    "            tono = cancion_info['Tono'].values[0]\n",
    "            modo = cancion_info['Modo'].values[0]\n",
    "            tempo = cancion_info['Tempo'].values[0]\n",
    "            año = cancion_info['Año'].values[0]\n",
    "            artista = cancion_info['Artista'].values[0]\n",
    "\n",
    "            st.success(f'Información para la canción \"{nombre_cancion}\":')\n",
    "            st.write(f'- Tono: {tono}')\n",
    "            st.write(f'- Modo: {modo}')\n",
    "            st.write(f'- Tempo: {tempo}')\n",
    "            st.write(f'- Año: {año}')\n",
    "            st.write(f'- Artista: {artista}')\n",
    "        else:\n",
    "            st.warning(f'No se encontró información para la canción \"{nombre_cancion}\".')\n",
    "\n",
    "# Mostrar el DataFrame actualizado\n",
    "st.write('**Datos Musicales Ingresados:**')\n",
    "st.write(df)"
   ]
  }
 ],
 "metadata": {
  "kernelspec": {
   "display_name": "myenv",
   "language": "python",
   "name": "python3"
  },
  "language_info": {
   "codemirror_mode": {
    "name": "ipython",
    "version": 3
   },
   "file_extension": ".py",
   "mimetype": "text/x-python",
   "name": "python",
   "nbconvert_exporter": "python",
   "pygments_lexer": "ipython3",
   "version": "3.11.4"
  }
 },
 "nbformat": 4,
 "nbformat_minor": 2
}
